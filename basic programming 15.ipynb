{
 "cells": [
  {
   "cell_type": "code",
   "execution_count": 1,
   "metadata": {},
   "outputs": [],
   "source": [
    "#Please write a program using generator to print the numbers which can be divisible by 5 and\n",
    "#7 between 0 and n in comma separated form while n is input by console.\n",
    "def NumGenerator(n):\n",
    "    for i in range(n+1):\n",
    "        if i%5==0 and i%7==0:\n",
    "            yield i\n",
    "\n",
    "    n=int(raw_input())\n",
    "    values = [str(i)for i in NumGenrator(n)]\n",
    "\n",
    "    print (\",\".join(values))"
   ]
  },
  {
   "cell_type": "code",
   "execution_count": 2,
   "metadata": {},
   "outputs": [],
   "source": [
    "#Please write a program using generator to print the even numbers between 0 and n in comma separated form while n is input by console.\n",
    "def EvenGenerator(n):\n",
    "    i=0\n",
    "    while i<=n:\n",
    "        if i%2==0:\n",
    "            yield i\n",
    "        i+=1\n",
    "\n",
    "\n",
    "    n=int(raw_input())\n",
    "    values = [str(i) for  i in EvenGenerator(n)]\n",
    "\n",
    "    print (\",\".join(values))"
   ]
  },
  {
   "cell_type": "code",
   "execution_count": 3,
   "metadata": {},
   "outputs": [],
   "source": [
    "#The Fibonacci Sequence is computed based on the following formula:\n",
    "# f(n)=0 if n=0\n",
    "# f(n)=1 if n=1\n",
    "# f(n)=f(n-1)+f(n-2) if n>1\n",
    "#Please write a program using list comprehension to print the Fibonacci Sequence in comma separated form with a given n input by console.\n",
    "def f(n):\n",
    "    if n < 2:\n",
    "        return n\n",
    "    return f(n-1) + f(n-2)\n",
    "\n",
    "    n = int(input())\n",
    "    print(f(n))"
   ]
  },
  {
   "cell_type": "code",
   "execution_count": 4,
   "metadata": {},
   "outputs": [],
   "source": [
    "#Assuming that we have some email addresses in the \"username@companyname.com\" format,\n",
    "# please write program to print the user name of a given email address. Both user names and\n",
    "# company names are composed of letters only.\n",
    "def user(mail):\n",
    "    import re\n",
    " \n",
    "    patch = \"(\\w+)@((\\w+\\.)+(com))\"\n",
    " \n",
    "    r2 = re.match(patch,mail)\n",
    " \n",
    "    return r2.group(1)"
   ]
  },
  {
   "cell_type": "code",
   "execution_count": 5,
   "metadata": {},
   "outputs": [],
   "source": [
    "#Define a class named Shape and its subclass Square. The Square class has an init function\n",
    "#which takes a length as argument. Both classes have a area function which can print the area\n",
    "#of the shape where Shape's area is 0 by default.\n",
    "class Shape():\n",
    "    def __init__(self):\n",
    "        pass\n",
    "\n",
    "    def area(self):\n",
    "        return 0\n",
    "\n",
    "class Square(Shape):\n",
    "    def __init__(self,length = 0):\n",
    "        Shape.__init__(self)\n",
    "        self.length = length\n",
    "\n",
    "    def area(self):\n",
    "        return self.length*self.length\n"
   ]
  }
 ],
 "metadata": {
  "kernelspec": {
   "display_name": "Python 3",
   "language": "python",
   "name": "python3"
  },
  "language_info": {
   "codemirror_mode": {
    "name": "ipython",
    "version": 3
   },
   "file_extension": ".py",
   "mimetype": "text/x-python",
   "name": "python",
   "nbconvert_exporter": "python",
   "pygments_lexer": "ipython3",
   "version": "3.8.5"
  }
 },
 "nbformat": 4,
 "nbformat_minor": 4
}
